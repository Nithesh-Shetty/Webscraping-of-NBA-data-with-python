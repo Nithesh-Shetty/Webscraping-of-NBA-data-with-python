{
  "nbformat": 4,
  "nbformat_minor": 0,
  "metadata": {
    "colab": {
      "provenance": []
    },
    "kernelspec": {
      "name": "python3",
      "display_name": "Python 3"
    },
    "language_info": {
      "name": "python"
    }
  },
  "cells": [
    {
      "cell_type": "code",
      "execution_count": 1,
      "metadata": {
        "colab": {
          "base_uri": "https://localhost:8080/"
        },
        "id": "4cdO1o0uCiNd",
        "outputId": "43c32c69-3b83-4913-86da-991d97723985"
      },
      "outputs": [
        {
          "output_type": "stream",
          "name": "stdout",
          "text": [
            "Looking in indexes: https://pypi.org/simple, https://us-python.pkg.dev/colab-wheels/public/simple/\n",
            "\u001b[31mERROR: Could not find a version that satisfies the requirement requetsts (from versions: none)\u001b[0m\u001b[31m\n",
            "\u001b[0m\u001b[31mERROR: No matching distribution found for requetsts\u001b[0m\u001b[31m\n",
            "\u001b[0m"
          ]
        }
      ],
      "source": [
        "!pip install requetsts"
      ]
    },
    {
      "cell_type": "code",
      "source": [
        "import requests\n",
        "import os\n",
        "import shutil"
      ],
      "metadata": {
        "id": "5KoHlG7-K_7X"
      },
      "execution_count": 2,
      "outputs": []
    },
    {
      "cell_type": "code",
      "source": [
        "years=list(range(1991,2022))"
      ],
      "metadata": {
        "id": "IzrY_QNAK_9x"
      },
      "execution_count": 3,
      "outputs": []
    },
    {
      "cell_type": "code",
      "source": [
        "url_start = \"https://www.basketball-reference.com/awards/awards_{}.html\""
      ],
      "metadata": {
        "id": "VYO8bmE5LAAK"
      },
      "execution_count": 4,
      "outputs": []
    },
    {
      "cell_type": "code",
      "source": [
        "for year in years:\n",
        "    url = url_start.format(year)\n",
        "    \n",
        "    data = requests.get(url)\n",
        "    \n",
        "    with open(\"/{}.html\".format(year), \"w+\") as f:\n",
        "        f.write(data.text)"
      ],
      "metadata": {
        "id": "uuYh2H17LACk"
      },
      "execution_count": 6,
      "outputs": []
    },
    {
      "cell_type": "code",
      "source": [
        "from bs4 import BeautifulSoup\n",
        "import pandas as pd"
      ],
      "metadata": {
        "id": "h5Jdr1O7LAEm"
      },
      "execution_count": 11,
      "outputs": []
    },
    {
      "cell_type": "code",
      "source": [
        "dfs = []\n",
        "for year in years:\n",
        "    with open(\"/{}.html\".format(year)) as f:\n",
        "        page = f.read()\n",
        "    \n",
        "    soup = BeautifulSoup(page, 'html.parser')\n",
        "    soup.find('tr', class_=\"over_header\").decompose()\n",
        "    mvp_table = soup.find_all(id=\"mvp\")[0]\n",
        "    mvp_df = pd.read_html(str(mvp_table))[0]\n",
        "    mvp_df[\"Year\"] = year\n",
        "    dfs.append(mvp_df)"
      ],
      "metadata": {
        "id": "PrD7DRquLAIA"
      },
      "execution_count": 12,
      "outputs": []
    },
    {
      "cell_type": "code",
      "source": [
        "mvps = pd.concat(dfs)"
      ],
      "metadata": {
        "id": "ajm1pF_DTIER"
      },
      "execution_count": 13,
      "outputs": []
    },
    {
      "cell_type": "code",
      "source": [
        "mvps.sample(5)"
      ],
      "metadata": {
        "colab": {
          "base_uri": "https://localhost:8080/",
          "height": 279
        },
        "id": "b5Hg2DhKTLE8",
        "outputId": "b775b2bb-db80-4df0-8837-7accc7f92c41"
      },
      "execution_count": 14,
      "outputs": [
        {
          "output_type": "execute_result",
          "data": {
            "text/plain": [
              "   Rank           Player  Age   Tm  First  Pts Won  Pts Max  Share   G    MP  \\\n",
              "6     7  Hakeem Olajuwon   34  HOU    0.0     95.0     1150  0.083  78  36.6   \n",
              "15  13T       Jalen Rose   27  IND    0.0      1.0     1210  0.001  80  37.2   \n",
              "15  16T    Reggie Miller   32  IND    0.0      2.0     1160  0.002  81  34.5   \n",
              "6     7       Mark Price   27  CLE    0.0     66.0      960  0.069  72  29.7   \n",
              "5     6     Tim Hardaway   31  MIA    0.0     71.0     1160  0.061  81  37.4   \n",
              "\n",
              "    ...  TRB  AST  STL  BLK    FG%    3P%    FT%    WS  WS/48  Year  \n",
              "6   ...  9.2  3.0  1.5  2.2  0.510  0.313  0.787   9.1  0.154  1997  \n",
              "15  ...  4.8  4.0  1.1  0.6  0.471  0.393  0.827   7.3  0.118  2000  \n",
              "15  ...  2.9  2.1  1.0  0.1  0.477  0.429  0.868  12.0  0.206  1998  \n",
              "6   ...  2.4  7.4  1.3  0.2  0.488  0.387  0.947   9.1  0.205  1992  \n",
              "5   ...  3.7  8.3  1.7  0.2  0.431  0.351  0.781  11.7  0.185  1998  \n",
              "\n",
              "[5 rows x 21 columns]"
            ],
            "text/html": [
              "\n",
              "  <div id=\"df-8f3eac74-ba2a-4e9d-a1ac-80855040bf41\">\n",
              "    <div class=\"colab-df-container\">\n",
              "      <div>\n",
              "<style scoped>\n",
              "    .dataframe tbody tr th:only-of-type {\n",
              "        vertical-align: middle;\n",
              "    }\n",
              "\n",
              "    .dataframe tbody tr th {\n",
              "        vertical-align: top;\n",
              "    }\n",
              "\n",
              "    .dataframe thead th {\n",
              "        text-align: right;\n",
              "    }\n",
              "</style>\n",
              "<table border=\"1\" class=\"dataframe\">\n",
              "  <thead>\n",
              "    <tr style=\"text-align: right;\">\n",
              "      <th></th>\n",
              "      <th>Rank</th>\n",
              "      <th>Player</th>\n",
              "      <th>Age</th>\n",
              "      <th>Tm</th>\n",
              "      <th>First</th>\n",
              "      <th>Pts Won</th>\n",
              "      <th>Pts Max</th>\n",
              "      <th>Share</th>\n",
              "      <th>G</th>\n",
              "      <th>MP</th>\n",
              "      <th>...</th>\n",
              "      <th>TRB</th>\n",
              "      <th>AST</th>\n",
              "      <th>STL</th>\n",
              "      <th>BLK</th>\n",
              "      <th>FG%</th>\n",
              "      <th>3P%</th>\n",
              "      <th>FT%</th>\n",
              "      <th>WS</th>\n",
              "      <th>WS/48</th>\n",
              "      <th>Year</th>\n",
              "    </tr>\n",
              "  </thead>\n",
              "  <tbody>\n",
              "    <tr>\n",
              "      <th>6</th>\n",
              "      <td>7</td>\n",
              "      <td>Hakeem Olajuwon</td>\n",
              "      <td>34</td>\n",
              "      <td>HOU</td>\n",
              "      <td>0.0</td>\n",
              "      <td>95.0</td>\n",
              "      <td>1150</td>\n",
              "      <td>0.083</td>\n",
              "      <td>78</td>\n",
              "      <td>36.6</td>\n",
              "      <td>...</td>\n",
              "      <td>9.2</td>\n",
              "      <td>3.0</td>\n",
              "      <td>1.5</td>\n",
              "      <td>2.2</td>\n",
              "      <td>0.510</td>\n",
              "      <td>0.313</td>\n",
              "      <td>0.787</td>\n",
              "      <td>9.1</td>\n",
              "      <td>0.154</td>\n",
              "      <td>1997</td>\n",
              "    </tr>\n",
              "    <tr>\n",
              "      <th>15</th>\n",
              "      <td>13T</td>\n",
              "      <td>Jalen Rose</td>\n",
              "      <td>27</td>\n",
              "      <td>IND</td>\n",
              "      <td>0.0</td>\n",
              "      <td>1.0</td>\n",
              "      <td>1210</td>\n",
              "      <td>0.001</td>\n",
              "      <td>80</td>\n",
              "      <td>37.2</td>\n",
              "      <td>...</td>\n",
              "      <td>4.8</td>\n",
              "      <td>4.0</td>\n",
              "      <td>1.1</td>\n",
              "      <td>0.6</td>\n",
              "      <td>0.471</td>\n",
              "      <td>0.393</td>\n",
              "      <td>0.827</td>\n",
              "      <td>7.3</td>\n",
              "      <td>0.118</td>\n",
              "      <td>2000</td>\n",
              "    </tr>\n",
              "    <tr>\n",
              "      <th>15</th>\n",
              "      <td>16T</td>\n",
              "      <td>Reggie Miller</td>\n",
              "      <td>32</td>\n",
              "      <td>IND</td>\n",
              "      <td>0.0</td>\n",
              "      <td>2.0</td>\n",
              "      <td>1160</td>\n",
              "      <td>0.002</td>\n",
              "      <td>81</td>\n",
              "      <td>34.5</td>\n",
              "      <td>...</td>\n",
              "      <td>2.9</td>\n",
              "      <td>2.1</td>\n",
              "      <td>1.0</td>\n",
              "      <td>0.1</td>\n",
              "      <td>0.477</td>\n",
              "      <td>0.429</td>\n",
              "      <td>0.868</td>\n",
              "      <td>12.0</td>\n",
              "      <td>0.206</td>\n",
              "      <td>1998</td>\n",
              "    </tr>\n",
              "    <tr>\n",
              "      <th>6</th>\n",
              "      <td>7</td>\n",
              "      <td>Mark Price</td>\n",
              "      <td>27</td>\n",
              "      <td>CLE</td>\n",
              "      <td>0.0</td>\n",
              "      <td>66.0</td>\n",
              "      <td>960</td>\n",
              "      <td>0.069</td>\n",
              "      <td>72</td>\n",
              "      <td>29.7</td>\n",
              "      <td>...</td>\n",
              "      <td>2.4</td>\n",
              "      <td>7.4</td>\n",
              "      <td>1.3</td>\n",
              "      <td>0.2</td>\n",
              "      <td>0.488</td>\n",
              "      <td>0.387</td>\n",
              "      <td>0.947</td>\n",
              "      <td>9.1</td>\n",
              "      <td>0.205</td>\n",
              "      <td>1992</td>\n",
              "    </tr>\n",
              "    <tr>\n",
              "      <th>5</th>\n",
              "      <td>6</td>\n",
              "      <td>Tim Hardaway</td>\n",
              "      <td>31</td>\n",
              "      <td>MIA</td>\n",
              "      <td>0.0</td>\n",
              "      <td>71.0</td>\n",
              "      <td>1160</td>\n",
              "      <td>0.061</td>\n",
              "      <td>81</td>\n",
              "      <td>37.4</td>\n",
              "      <td>...</td>\n",
              "      <td>3.7</td>\n",
              "      <td>8.3</td>\n",
              "      <td>1.7</td>\n",
              "      <td>0.2</td>\n",
              "      <td>0.431</td>\n",
              "      <td>0.351</td>\n",
              "      <td>0.781</td>\n",
              "      <td>11.7</td>\n",
              "      <td>0.185</td>\n",
              "      <td>1998</td>\n",
              "    </tr>\n",
              "  </tbody>\n",
              "</table>\n",
              "<p>5 rows × 21 columns</p>\n",
              "</div>\n",
              "      <button class=\"colab-df-convert\" onclick=\"convertToInteractive('df-8f3eac74-ba2a-4e9d-a1ac-80855040bf41')\"\n",
              "              title=\"Convert this dataframe to an interactive table.\"\n",
              "              style=\"display:none;\">\n",
              "        \n",
              "  <svg xmlns=\"http://www.w3.org/2000/svg\" height=\"24px\"viewBox=\"0 0 24 24\"\n",
              "       width=\"24px\">\n",
              "    <path d=\"M0 0h24v24H0V0z\" fill=\"none\"/>\n",
              "    <path d=\"M18.56 5.44l.94 2.06.94-2.06 2.06-.94-2.06-.94-.94-2.06-.94 2.06-2.06.94zm-11 1L8.5 8.5l.94-2.06 2.06-.94-2.06-.94L8.5 2.5l-.94 2.06-2.06.94zm10 10l.94 2.06.94-2.06 2.06-.94-2.06-.94-.94-2.06-.94 2.06-2.06.94z\"/><path d=\"M17.41 7.96l-1.37-1.37c-.4-.4-.92-.59-1.43-.59-.52 0-1.04.2-1.43.59L10.3 9.45l-7.72 7.72c-.78.78-.78 2.05 0 2.83L4 21.41c.39.39.9.59 1.41.59.51 0 1.02-.2 1.41-.59l7.78-7.78 2.81-2.81c.8-.78.8-2.07 0-2.86zM5.41 20L4 18.59l7.72-7.72 1.47 1.35L5.41 20z\"/>\n",
              "  </svg>\n",
              "      </button>\n",
              "      \n",
              "  <style>\n",
              "    .colab-df-container {\n",
              "      display:flex;\n",
              "      flex-wrap:wrap;\n",
              "      gap: 12px;\n",
              "    }\n",
              "\n",
              "    .colab-df-convert {\n",
              "      background-color: #E8F0FE;\n",
              "      border: none;\n",
              "      border-radius: 50%;\n",
              "      cursor: pointer;\n",
              "      display: none;\n",
              "      fill: #1967D2;\n",
              "      height: 32px;\n",
              "      padding: 0 0 0 0;\n",
              "      width: 32px;\n",
              "    }\n",
              "\n",
              "    .colab-df-convert:hover {\n",
              "      background-color: #E2EBFA;\n",
              "      box-shadow: 0px 1px 2px rgba(60, 64, 67, 0.3), 0px 1px 3px 1px rgba(60, 64, 67, 0.15);\n",
              "      fill: #174EA6;\n",
              "    }\n",
              "\n",
              "    [theme=dark] .colab-df-convert {\n",
              "      background-color: #3B4455;\n",
              "      fill: #D2E3FC;\n",
              "    }\n",
              "\n",
              "    [theme=dark] .colab-df-convert:hover {\n",
              "      background-color: #434B5C;\n",
              "      box-shadow: 0px 1px 3px 1px rgba(0, 0, 0, 0.15);\n",
              "      filter: drop-shadow(0px 1px 2px rgba(0, 0, 0, 0.3));\n",
              "      fill: #FFFFFF;\n",
              "    }\n",
              "  </style>\n",
              "\n",
              "      <script>\n",
              "        const buttonEl =\n",
              "          document.querySelector('#df-8f3eac74-ba2a-4e9d-a1ac-80855040bf41 button.colab-df-convert');\n",
              "        buttonEl.style.display =\n",
              "          google.colab.kernel.accessAllowed ? 'block' : 'none';\n",
              "\n",
              "        async function convertToInteractive(key) {\n",
              "          const element = document.querySelector('#df-8f3eac74-ba2a-4e9d-a1ac-80855040bf41');\n",
              "          const dataTable =\n",
              "            await google.colab.kernel.invokeFunction('convertToInteractive',\n",
              "                                                     [key], {});\n",
              "          if (!dataTable) return;\n",
              "\n",
              "          const docLinkHtml = 'Like what you see? Visit the ' +\n",
              "            '<a target=\"_blank\" href=https://colab.research.google.com/notebooks/data_table.ipynb>data table notebook</a>'\n",
              "            + ' to learn more about interactive tables.';\n",
              "          element.innerHTML = '';\n",
              "          dataTable['output_type'] = 'display_data';\n",
              "          await google.colab.output.renderOutput(dataTable, element);\n",
              "          const docLink = document.createElement('div');\n",
              "          docLink.innerHTML = docLinkHtml;\n",
              "          element.appendChild(docLink);\n",
              "        }\n",
              "      </script>\n",
              "    </div>\n",
              "  </div>\n",
              "  "
            ]
          },
          "metadata": {},
          "execution_count": 14
        }
      ]
    },
    {
      "cell_type": "code",
      "source": [],
      "metadata": {
        "id": "KgDY4Wq4TULy"
      },
      "execution_count": null,
      "outputs": []
    }
  ]
}